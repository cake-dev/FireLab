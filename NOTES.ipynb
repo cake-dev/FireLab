{
 "cells": [
  {
   "cell_type": "markdown",
   "metadata": {},
   "source": [
    "**Meeting Notes 11/21**\n",
    "\n",
    "**What I can help with:**\n",
    "\n",
    "*Lindsay's Work:*\n",
    "- Has been working on rating how effective the drops are at slowing ROS using perimeters.\n",
    "- Calculating ROS using 12hr perimeters.\n",
    "- Looking at if drops are slowing ROS.\n",
    "- Recording ROS closest to drop, messed up.\n",
    "- Was looking if ROS was slowed after the drop.\n",
    "- Will now be looking at points around the drop to see if similar.\n",
    "  - Similar - the area just beyond where the drop occurred is similar to the area where the drop occurred.\n",
    "- If they are similar, see what happened to ROS where the drop vs. no drop.\n",
    "- Getting an area near the fire but not in the fire will be challenging.\n",
    "- Some of the 12hr perimeters don't line up with MTBS.\n",
    "- For each fire, get the biggest perimeter.\n",
    "- Can maybe buffer fire perimeters and squarify.\n",
    "- 12hr perimeters 2018, 19, 20.\n",
    "- She is training a classifier to say this is probably that a drop will be successful.\n",
    "  - Could be good to have polygons with no fire to train on.\n",
    "  - Or use fires outside of the temporal range of training data.\n",
    "\n",
    "**DATAFRAME:**\n",
    "- Use the full feature set initially.\n",
    "\n",
    "**THE PAPER:**\n",
    "- Add short names from DF to dataset description in the paper.\n",
    "\n",
    "**NEXT SEMESTER:**\n",
    "- Multi-model approach to assessing ROS and drop efficacy.\n",
    "- Quantitative measure of how effective the drop is as a target.\n",
    "\n",
    "**DROP DATASET:**\n",
    "- Will be smaller than the burn dataset.\n",
    "\n",
    "**UPDATES 11/29**:\n",
    "- Dataset dem not aligned, just looks random, looks fine after single run to create new dataset, will continue adding\n",
    "1 feature at a time then plotting to see if it breaks.  Could be a projection issue or something else."
   ]
  },
  {
   "cell_type": "code",
   "execution_count": null,
   "metadata": {},
   "outputs": [],
   "source": []
  }
 ],
 "metadata": {
  "language_info": {
   "name": "python"
  },
  "orig_nbformat": 4
 },
 "nbformat": 4,
 "nbformat_minor": 2
}
