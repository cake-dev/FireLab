{
 "cells": [
  {
   "cell_type": "code",
   "execution_count": 3,
   "metadata": {},
   "outputs": [],
   "source": [
    "import os\n",
    "import tempfile\n",
    "import warnings\n",
    "from os.path import join as pjoin\n",
    "\n",
    "import dask\n",
    "import dask.dataframe as dd\n",
    "import dask_geopandas as dgpd\n",
    "import geopandas as gpd\n",
    "import numpy as np\n",
    "import pandas as pd\n",
    "import rasterio\n",
    "from scipy.fft import dst\n",
    "import tqdm\n",
    "import xarray as xr\n",
    "from dask.diagnostics import ProgressBar\n",
    "from rasterio.crs import CRS\n",
    "\n",
    "from raster_tools import Raster, Vector, open_vectors, clipping, zonal\n",
    "from raster_tools.dtypes import F32, U8, U16\n",
    "\n",
    "import matplotlib.pyplot as plt\n",
    "\n",
    "# change pandas max col display\n",
    "pd.set_option('display.max_columns', 500)\n",
    "\n",
    "# Location for temporary storage\n",
    "TMP_LOC = \"/home/jake/FireLab/Project/data/temp/\"\n",
    "DATA_LOC = \"/home/jake/FireLab/Project/data/\"\n",
    "\n",
    "STATE = \"OR\"\n",
    "\n",
    "# Location of clipped DEM files\n",
    "DEM_DATA_DIR = pjoin(TMP_LOC, \"dem_data\")\n",
    "\n",
    "# location of feature data files\n",
    "FEATURE_DIR = pjoin(DATA_LOC, \"FeatureData\")\n",
    "EDNA_DIR = pjoin(DATA_LOC, \"terrain\")\n",
    "MTBS_DIR = pjoin(DATA_LOC, \"MTBS_Data\")\n",
    "\n",
    "mtbs_df_path = pjoin(TMP_LOC, f\"{STATE}_mtbs.parquet/\")\n",
    "mtbs_df_parquet_path = pjoin(TMP_LOC, f\"{STATE}_mtbs_new.parquet\")\n",
    "mtbs_df_temp_path = pjoin(TMP_LOC, f\"{STATE}_mtbs_temp.parquet/\")\n",
    "checkpoint_1_path = pjoin(TMP_LOC, \"check1\")\n",
    "checkpoint_2_path = pjoin(TMP_LOC, \"check2\")\n",
    "\n",
    "PATHS = {\n",
    "    \"states\": pjoin(EDNA_DIR, \"state_borders/cb_2018_us_state_5m.shp\"),\n",
    "    \"dem\": pjoin(EDNA_DIR, \"us_orig_dem/us_orig_dem/orig_dem/hdr.adf\"),\n",
    "    \"dem_slope\": pjoin(EDNA_DIR, \"us_slope/us_slope/slope/hdr.adf\"),\n",
    "    \"dem_aspect\": pjoin(EDNA_DIR, \"us_aspect/aspect/hdr.adf\"),\n",
    "    \"dem_flow_acc\": pjoin(EDNA_DIR, \"us_flow_acc/us_flow_acc/flow_acc/hdr.adf\"),\n",
    "    \"gm_srad\": pjoin(FEATURE_DIR, \"gridmet/srad_1986_2020_weekly.nc\"),\n",
    "    \"gm_vpd\": pjoin(FEATURE_DIR, \"gridmet/vpd_1986_2020_weekly.nc\"),\n",
    "    \"aw_mat\": pjoin(FEATURE_DIR, \"adaptwest/Normal_1991_2020_MAT.tif\"),\n",
    "    \"aw_mcmt\": pjoin(FEATURE_DIR, \"adaptwest/Normal_1991_2020_MCMT.tif\"),\n",
    "    \"aw_mwmt\": pjoin(FEATURE_DIR, \"adaptwest/Normal_1991_2020_MWMT.tif\"),\n",
    "    \"aw_td\": pjoin(FEATURE_DIR, \"adaptwest/Normal_1991_2020_TD.tif\"),\n",
    "    \"dm_tmax\": pjoin(FEATURE_DIR, \"daymet/tmax_1986_2020.nc\"),\n",
    "    \"dm_tmin\": pjoin(FEATURE_DIR, \"daymet/tmin_1986_2020.nc\"),\n",
    "    \"biomass_afg\": pjoin(\n",
    "        FEATURE_DIR, \"biomass/biomass_afg_1986_2020_{}.nc\".format(STATE)\n",
    "    ),\n",
    "    \"biomass_pfg\": pjoin(\n",
    "        FEATURE_DIR, \"biomass/biomass_pfg_1986_2020_{}.nc\".format(STATE)\n",
    "    ),\n",
    "    \"landfire_fvt\": pjoin(\n",
    "        FEATURE_DIR, \"landfire/LF2020_FVT_200_CONUS/Tif/LC20_FVT_200.tif\"\n",
    "    ),\n",
    "    \"landfire_fbfm40\": pjoin(\n",
    "        FEATURE_DIR, \"landfire/LF2020_FBFM40_200_CONUS/Tif/LC20_F40_200.tif\"\n",
    "    ),\n",
    "    \"ndvi\": pjoin(FEATURE_DIR, \"ndvi/access/weekly/ndvi_1986_2020_weekavg.nc\"),\n",
    "    \"mtbs_root\": pjoin(MTBS_DIR, \"MTBS_BSmosaics/\"),\n",
    "    \"mtbs_perim\": pjoin(MTBS_DIR, \"mtbs_perimeter_data/mtbs_perims_DD.shp\"),\n",
    "}\n",
    "YEARS = list(range(2016, 2021))\n",
    "GM_KEYS = list(filter(lambda x: x.startswith(\"gm_\"), PATHS))\n",
    "AW_KEYS = list(filter(lambda x: x.startswith(\"aw_\"), PATHS))\n",
    "DM_KEYS = list(filter(lambda x: x.startswith(\"dm_\"), PATHS))\n",
    "BIOMASS_KEYS = list(filter(lambda x: x.startswith(\"biomass_\"), PATHS))\n",
    "LANDFIRE_KEYS = list(filter(lambda x: x.startswith(\"landfire_\"), PATHS))\n",
    "NDVI_KEYS = list(filter(lambda x: x.startswith(\"ndvi\"), PATHS))\n",
    "DEM_KEYS = list(filter(lambda x: x.startswith(\"dem\"), PATHS))"
   ]
  },
  {
   "cell_type": "markdown",
   "metadata": {},
   "source": [
    "---"
   ]
  },
  {
   "cell_type": "code",
   "execution_count": null,
   "metadata": {},
   "outputs": [],
   "source": [
    "mtbs_df_2018_2020 = dgpd.read_parquet(checkpoint_2_path)"
   ]
  },
  {
   "cell_type": "code",
   "execution_count": null,
   "metadata": {},
   "outputs": [],
   "source": [
    "len(mtbs_df_2018_2020)"
   ]
  },
  {
   "cell_type": "code",
   "execution_count": null,
   "metadata": {},
   "outputs": [],
   "source": [
    "mtbs_df_2018_2020_computed = mtbs_df_2018_2020.compute()"
   ]
  },
  {
   "cell_type": "code",
   "execution_count": null,
   "metadata": {},
   "outputs": [],
   "source": [
    "len(mtbs_df_2018_2020_computed.geometry.unique())"
   ]
  },
  {
   "cell_type": "code",
   "execution_count": null,
   "metadata": {},
   "outputs": [],
   "source": [
    "# find the count of unique date geometry pairs\n",
    "mtbs_df_2018_2020_computed.groupby([\"ig_date\", \"geometry\"]).size().reset_index().shape"
   ]
  },
  {
   "cell_type": "markdown",
   "metadata": {},
   "source": [
    "#### MTBS DATASET ADD UID AND EVENT ID"
   ]
  },
  {
   "cell_type": "code",
   "execution_count": null,
   "metadata": {},
   "outputs": [],
   "source": [
    "# load mtbs perimeters\n",
    "print(\"Loading MTBS perimeters\")\n",
    "mtbs_perim = gpd.read_file(PATHS[\"mtbs_perim\"])\n",
    "mtbs_perim['Ig_Date'] = pd.to_datetime(mtbs_perim['Ig_Date'])\n",
    "mtbs_perim.columns\n",
    "\n",
    "# extract only the columns we need (Event_ID where startswith OR, Ig_Date, and geometry)\n",
    "mtbs_perim = mtbs_perim[[\"Event_ID\", \"Ig_Date\", \"geometry\"]]\n",
    "mtbs_perim = mtbs_perim[mtbs_perim.Event_ID.str.startswith(\"OR\")]\n",
    "# drop rows where Ig_Date before 1986 or after 2020\n",
    "mtbs_perim = mtbs_perim[mtbs_perim.Ig_Date.dt.year.between(2018, 2020)]\n",
    "mtbs_perim.reset_index(drop=True, inplace=True)\n",
    "len(mtbs_perim)"
   ]
  },
  {
   "cell_type": "code",
   "execution_count": null,
   "metadata": {},
   "outputs": [],
   "source": [
    "# convert the geometry in mtbs_dataset to lat lon\n",
    "# mtbs_dask_df = mtbs_dask_df.to_crs(epsg=4326)\n",
    "mtbs_perim = mtbs_perim.to_crs(mtbs_df_2018_2020.crs)\n",
    "# mtbs_dataset = mtbs_dataset.to_crs(epsg=4326)"
   ]
  },
  {
   "cell_type": "code",
   "execution_count": null,
   "metadata": {},
   "outputs": [],
   "source": [
    "def spatial_join(partition, mtbs_perim):\n",
    "    # Convert the Dask partition to a GeoDataFrame\n",
    "    gdf = gpd.GeoDataFrame(partition, geometry='geometry', crs=mtbs_perim.crs)\n",
    "\n",
    "    # Perform the spatial join\n",
    "    joined = gpd.sjoin(gdf, mtbs_perim, how=\"inner\", predicate=\"intersects\")\n",
    "\n",
    "    # Filter by date if needed\n",
    "    joined = joined[joined['ig_date'] == joined['Ig_Date']]\n",
    "    # print(joined)\n",
    "\n",
    "    return joined\n",
    "\n",
    "result = mtbs_df_2018_2020.map_partitions(spatial_join, mtbs_perim, align_dataframes=False)\n",
    "print(len(result))"
   ]
  },
  {
   "cell_type": "code",
   "execution_count": null,
   "metadata": {},
   "outputs": [],
   "source": [
    "with ProgressBar():\n",
    "    final_result = result.compute()"
   ]
  },
  {
   "cell_type": "code",
   "execution_count": null,
   "metadata": {},
   "outputs": [],
   "source": [
    "final_result"
   ]
  },
  {
   "cell_type": "code",
   "execution_count": null,
   "metadata": {},
   "outputs": [],
   "source": [
    "# TODO: compare final_results and mtbs_dataset to see what is missing from final_results after the spatial join"
   ]
  },
  {
   "cell_type": "code",
   "execution_count": null,
   "metadata": {},
   "outputs": [],
   "source": [
    "final_result.drop(columns=['index_right', 'Ig_Date'], inplace=True)"
   ]
  },
  {
   "cell_type": "code",
   "execution_count": null,
   "metadata": {},
   "outputs": [],
   "source": [
    "# drop null values\n",
    "final_result.dropna(inplace=True)\n",
    "# adds unique id to each pixel\n",
    "final_result.reset_index(inplace=True)\n",
    "final_result['index'] = final_result.index\n",
    "# rename index to unique_id\n",
    "final_result.rename(columns={'index': 'unique_id'}, inplace=True)\n",
    "final_result"
   ]
  },
  {
   "cell_type": "code",
   "execution_count": null,
   "metadata": {},
   "outputs": [],
   "source": [
    "# plot a fire topo map\n",
    "\n",
    "eventID = 'OR4380511789220200816'\n",
    "\n",
    "fire = final_result[final_result.Event_ID == eventID]\n",
    "\n",
    "col = 'dem'\n",
    "\n",
    "fire.plot(column=col, s=1)"
   ]
  },
  {
   "cell_type": "code",
   "execution_count": null,
   "metadata": {},
   "outputs": [],
   "source": [
    "# write final_result to dask so we can write to parquet\n",
    "# final_result = dd.from_pandas(final_result, npartitions=100)"
   ]
  },
  {
   "cell_type": "code",
   "execution_count": null,
   "metadata": {},
   "outputs": [],
   "source": [
    "with ProgressBar():\n",
    "    final_result.to_parquet(mtbs_df_parquet_path)"
   ]
  },
  {
   "cell_type": "code",
   "execution_count": null,
   "metadata": {},
   "outputs": [],
   "source": [
    "final_result = None"
   ]
  },
  {
   "cell_type": "code",
   "execution_count": 4,
   "metadata": {},
   "outputs": [
    {
     "name": "stdout",
     "output_type": "stream",
     "text": [
      "[########################################] | 100% Completed | 35.15 s\n"
     ]
    }
   ],
   "source": [
    "# read and check\n",
    "mtbs_dataset_final = dgpd.read_parquet(mtbs_df_parquet_path)\n",
    "with ProgressBar():\n",
    "    mtbs_final_computed = mtbs_dataset_final.compute()"
   ]
  },
  {
   "cell_type": "code",
   "execution_count": 6,
   "metadata": {},
   "outputs": [
    {
     "data": {
      "text/html": [
       "<div>\n",
       "<style scoped>\n",
       "    .dataframe tbody tr th:only-of-type {\n",
       "        vertical-align: middle;\n",
       "    }\n",
       "\n",
       "    .dataframe tbody tr th {\n",
       "        vertical-align: top;\n",
       "    }\n",
       "\n",
       "    .dataframe thead th {\n",
       "        text-align: right;\n",
       "    }\n",
       "</style>\n",
       "<table border=\"1\" class=\"dataframe\">\n",
       "  <thead>\n",
       "    <tr style=\"text-align: right;\">\n",
       "      <th></th>\n",
       "      <th>unique_id</th>\n",
       "      <th>mtbs</th>\n",
       "      <th>geometry</th>\n",
       "      <th>state</th>\n",
       "      <th>ig_date</th>\n",
       "      <th>dem</th>\n",
       "      <th>dem_slope</th>\n",
       "      <th>dem_aspect</th>\n",
       "      <th>dem_flow_acc</th>\n",
       "      <th>Event_ID</th>\n",
       "    </tr>\n",
       "  </thead>\n",
       "  <tbody>\n",
       "    <tr>\n",
       "      <th>0</th>\n",
       "      <td>0</td>\n",
       "      <td>1</td>\n",
       "      <td>POINT (-1825230.000 2475090.000)</td>\n",
       "      <td>OR</td>\n",
       "      <td>2018-04-27</td>\n",
       "      <td>1869.0</td>\n",
       "      <td>18.211313</td>\n",
       "      <td>176.623978</td>\n",
       "      <td>1.0</td>\n",
       "      <td>OR4327211882920180427</td>\n",
       "    </tr>\n",
       "    <tr>\n",
       "      <th>1</th>\n",
       "      <td>1</td>\n",
       "      <td>2</td>\n",
       "      <td>POINT (-1825200.000 2475090.000)</td>\n",
       "      <td>OR</td>\n",
       "      <td>2018-04-27</td>\n",
       "      <td>1345.0</td>\n",
       "      <td>11.628568</td>\n",
       "      <td>234.196259</td>\n",
       "      <td>16.0</td>\n",
       "      <td>OR4327211882920180427</td>\n",
       "    </tr>\n",
       "    <tr>\n",
       "      <th>2</th>\n",
       "      <td>2</td>\n",
       "      <td>1</td>\n",
       "      <td>POINT (-1825170.000 2475090.000)</td>\n",
       "      <td>OR</td>\n",
       "      <td>2018-04-27</td>\n",
       "      <td>1433.0</td>\n",
       "      <td>4.674816</td>\n",
       "      <td>195.418152</td>\n",
       "      <td>7.0</td>\n",
       "      <td>OR4327211882920180427</td>\n",
       "    </tr>\n",
       "    <tr>\n",
       "      <th>3</th>\n",
       "      <td>3</td>\n",
       "      <td>1</td>\n",
       "      <td>POINT (-1825260.000 2475060.000)</td>\n",
       "      <td>OR</td>\n",
       "      <td>2018-04-27</td>\n",
       "      <td>1647.0</td>\n",
       "      <td>1.859062</td>\n",
       "      <td>3.434479</td>\n",
       "      <td>0.0</td>\n",
       "      <td>OR4327211882920180427</td>\n",
       "    </tr>\n",
       "    <tr>\n",
       "      <th>4</th>\n",
       "      <td>4</td>\n",
       "      <td>2</td>\n",
       "      <td>POINT (-1825230.000 2475060.000)</td>\n",
       "      <td>OR</td>\n",
       "      <td>2018-04-27</td>\n",
       "      <td>1250.0</td>\n",
       "      <td>0.000000</td>\n",
       "      <td>-1.000000</td>\n",
       "      <td>11.0</td>\n",
       "      <td>OR4327211882920180427</td>\n",
       "    </tr>\n",
       "    <tr>\n",
       "      <th>...</th>\n",
       "      <td>...</td>\n",
       "      <td>...</td>\n",
       "      <td>...</td>\n",
       "      <td>...</td>\n",
       "      <td>...</td>\n",
       "      <td>...</td>\n",
       "      <td>...</td>\n",
       "      <td>...</td>\n",
       "      <td>...</td>\n",
       "      <td>...</td>\n",
       "    </tr>\n",
       "    <tr>\n",
       "      <th>28327432</th>\n",
       "      <td>28327432</td>\n",
       "      <td>1</td>\n",
       "      <td>POINT (-1697340.000 2447820.000)</td>\n",
       "      <td>OR</td>\n",
       "      <td>2020-11-05</td>\n",
       "      <td>1461.0</td>\n",
       "      <td>8.161068</td>\n",
       "      <td>105.121094</td>\n",
       "      <td>11.0</td>\n",
       "      <td>OR4333011722220201105</td>\n",
       "    </tr>\n",
       "    <tr>\n",
       "      <th>28327433</th>\n",
       "      <td>28327433</td>\n",
       "      <td>1</td>\n",
       "      <td>POINT (-1697490.000 2447790.000)</td>\n",
       "      <td>OR</td>\n",
       "      <td>2020-11-05</td>\n",
       "      <td>1477.0</td>\n",
       "      <td>6.338682</td>\n",
       "      <td>134.559052</td>\n",
       "      <td>2.0</td>\n",
       "      <td>OR4333011722220201105</td>\n",
       "    </tr>\n",
       "    <tr>\n",
       "      <th>28327434</th>\n",
       "      <td>28327434</td>\n",
       "      <td>1</td>\n",
       "      <td>POINT (-1697460.000 2447790.000)</td>\n",
       "      <td>OR</td>\n",
       "      <td>2020-11-05</td>\n",
       "      <td>1474.0</td>\n",
       "      <td>5.296444</td>\n",
       "      <td>148.826309</td>\n",
       "      <td>8.0</td>\n",
       "      <td>OR4333011722220201105</td>\n",
       "    </tr>\n",
       "    <tr>\n",
       "      <th>28327435</th>\n",
       "      <td>28327435</td>\n",
       "      <td>1</td>\n",
       "      <td>POINT (-1697430.000 2447790.000)</td>\n",
       "      <td>OR</td>\n",
       "      <td>2020-11-05</td>\n",
       "      <td>1472.0</td>\n",
       "      <td>4.947824</td>\n",
       "      <td>132.493271</td>\n",
       "      <td>8.0</td>\n",
       "      <td>OR4333011722220201105</td>\n",
       "    </tr>\n",
       "    <tr>\n",
       "      <th>28327436</th>\n",
       "      <td>28327436</td>\n",
       "      <td>1</td>\n",
       "      <td>POINT (-1697400.000 2447790.000)</td>\n",
       "      <td>OR</td>\n",
       "      <td>2020-11-05</td>\n",
       "      <td>1470.0</td>\n",
       "      <td>6.197601</td>\n",
       "      <td>107.626770</td>\n",
       "      <td>9.0</td>\n",
       "      <td>OR4333011722220201105</td>\n",
       "    </tr>\n",
       "  </tbody>\n",
       "</table>\n",
       "<p>28327437 rows × 10 columns</p>\n",
       "</div>"
      ],
      "text/plain": [
       "          unique_id  mtbs                          geometry state    ig_date  \\\n",
       "0                 0     1  POINT (-1825230.000 2475090.000)    OR 2018-04-27   \n",
       "1                 1     2  POINT (-1825200.000 2475090.000)    OR 2018-04-27   \n",
       "2                 2     1  POINT (-1825170.000 2475090.000)    OR 2018-04-27   \n",
       "3                 3     1  POINT (-1825260.000 2475060.000)    OR 2018-04-27   \n",
       "4                 4     2  POINT (-1825230.000 2475060.000)    OR 2018-04-27   \n",
       "...             ...   ...                               ...   ...        ...   \n",
       "28327432   28327432     1  POINT (-1697340.000 2447820.000)    OR 2020-11-05   \n",
       "28327433   28327433     1  POINT (-1697490.000 2447790.000)    OR 2020-11-05   \n",
       "28327434   28327434     1  POINT (-1697460.000 2447790.000)    OR 2020-11-05   \n",
       "28327435   28327435     1  POINT (-1697430.000 2447790.000)    OR 2020-11-05   \n",
       "28327436   28327436     1  POINT (-1697400.000 2447790.000)    OR 2020-11-05   \n",
       "\n",
       "             dem  dem_slope  dem_aspect  dem_flow_acc               Event_ID  \n",
       "0         1869.0  18.211313  176.623978           1.0  OR4327211882920180427  \n",
       "1         1345.0  11.628568  234.196259          16.0  OR4327211882920180427  \n",
       "2         1433.0   4.674816  195.418152           7.0  OR4327211882920180427  \n",
       "3         1647.0   1.859062    3.434479           0.0  OR4327211882920180427  \n",
       "4         1250.0   0.000000   -1.000000          11.0  OR4327211882920180427  \n",
       "...          ...        ...         ...           ...                    ...  \n",
       "28327432  1461.0   8.161068  105.121094          11.0  OR4333011722220201105  \n",
       "28327433  1477.0   6.338682  134.559052           2.0  OR4333011722220201105  \n",
       "28327434  1474.0   5.296444  148.826309           8.0  OR4333011722220201105  \n",
       "28327435  1472.0   4.947824  132.493271           8.0  OR4333011722220201105  \n",
       "28327436  1470.0   6.197601  107.626770           9.0  OR4333011722220201105  \n",
       "\n",
       "[28327437 rows x 10 columns]"
      ]
     },
     "execution_count": 6,
     "metadata": {},
     "output_type": "execute_result"
    }
   ],
   "source": [
    "mtbs_final_computed"
   ]
  },
  {
   "cell_type": "code",
   "execution_count": 5,
   "metadata": {},
   "outputs": [
    {
     "data": {
      "text/plain": [
       "<Axes: >"
      ]
     },
     "execution_count": 5,
     "metadata": {},
     "output_type": "execute_result"
    },
    {
     "data": {
      "image/png": "[encoded data removed]",
      "text/plain": [
       "<Figure size 640x480 with 1 Axes>"
      ]
     },
     "metadata": {},
     "output_type": "display_data"
    }
   ],
   "source": [
    "# plot a fire topo map\n",
    "\n",
    "eventID = 'OR4380511789220200816'\n",
    "\n",
    "fire = mtbs_final_computed[mtbs_final_computed.Event_ID == eventID]\n",
    "\n",
    "col = 'dem'\n",
    "\n",
    "fire.plot(column=col, s=1)"
   ]
  },
  {
   "cell_type": "code",
   "execution_count": null,
   "metadata": {},
   "outputs": [],
   "source": [
    "mtbs_dataset_2020_08_16 = mtbs_dataset[(mtbs_dataset.year == 2020) & (mtbs_dataset.ig_date.dt.month == 8) & (mtbs_dataset.ig_date.dt.day == 16)]\n",
    "mtbs_dataset_2020_08_16"
   ]
  },
  {
   "cell_type": "code",
   "execution_count": null,
   "metadata": {},
   "outputs": [],
   "source": [
    "mtbs_dataset_2020_08_16.plot(column=col, s=1)"
   ]
  }
 ],
 "metadata": {
  "kernelspec": {
   "display_name": "gisenv",
   "language": "python",
   "name": "python3"
  },
  "language_info": {
   "codemirror_mode": {
    "name": "ipython",
    "version": 3
   },
   "file_extension": ".py",
   "mimetype": "text/x-python",
   "name": "python",
   "nbconvert_exporter": "python",
   "pygments_lexer": "ipython3",
   "version": "3.9.18"
  },
  "orig_nbformat": 4
 },
 "nbformat": 4,
 "nbformat_minor": 2
}
