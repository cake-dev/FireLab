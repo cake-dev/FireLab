{
 "cells": [
  {
   "cell_type": "code",
   "execution_count": 2,
   "metadata": {},
   "outputs": [],
   "source": [
    "import os\n",
    "import tempfile\n",
    "import warnings\n",
    "from os.path import join as pjoin\n",
    "\n",
    "import dask\n",
    "import dask.dataframe as dd\n",
    "import dask_geopandas as dgpd\n",
    "import geopandas as gpd\n",
    "import numpy as np\n",
    "import pandas as pd\n",
    "import rasterio\n",
    "from scipy.fft import dst\n",
    "import tqdm\n",
    "import xarray as xr\n",
    "from dask.diagnostics import ProgressBar\n",
    "from rasterio.crs import CRS\n",
    "\n",
    "from raster_tools import Raster, Vector, open_vectors, clipping, zonal\n",
    "from raster_tools.dtypes import F32, U8, U16\n",
    "\n",
    "import matplotlib.pyplot as plt\n",
    "\n",
    "# change pandas max col display\n",
    "pd.set_option('display.max_columns', 500)"
   ]
  },
  {
   "cell_type": "code",
   "execution_count": 3,
   "metadata": {},
   "outputs": [],
   "source": [
    "# Location for temporary storage\n",
    "TMP_LOC = \"/home/jake/FireLab/Project/data/temp/\"\n",
    "DATA_LOC = \"/home/jake/FireLab/Project/data/\"\n",
    "\n",
    "STATE = \"OR\"\n",
    "\n",
    "# Location of clipped DEM files\n",
    "DEM_DATA_DIR = pjoin(TMP_LOC, \"dem_data\")\n",
    "\n",
    "# location of feature data files\n",
    "FEATURE_DIR = pjoin(DATA_LOC, \"FeatureData\")\n",
    "EDNA_DIR = pjoin(DATA_LOC, \"terrain\")\n",
    "MTBS_DIR = pjoin(DATA_LOC, \"MTBS_Data\")\n",
    "\n",
    "mtbs_df_path = pjoin(TMP_LOC, f\"{STATE}_mtbs.parquet/\")\n",
    "mtbs_df_parquet_path = pjoin(TMP_LOC, f\"{STATE}_mtbs_new.parquet\")\n",
    "mtbs_df_temp_path = pjoin(TMP_LOC, f\"{STATE}_mtbs_temp.parquet/\")\n",
    "checkpoint_1_path = pjoin(TMP_LOC, \"check1\")\n",
    "checkpoint_2_path = pjoin(TMP_LOC, \"check2\")\n",
    "\n",
    "PATHS = {\n",
    "    \"states\": pjoin(EDNA_DIR, \"state_borders/cb_2018_us_state_5m.shp\"),\n",
    "    \"dem\": pjoin(EDNA_DIR, \"us_orig_dem/us_orig_dem/orig_dem/hdr.adf\"),\n",
    "    \"dem_slope\": pjoin(EDNA_DIR, \"us_slope/us_slope/slope/hdr.adf\"),\n",
    "    \"dem_aspect\": pjoin(EDNA_DIR, \"us_aspect/aspect/hdr.adf\"),\n",
    "    \"dem_flow_acc\": pjoin(EDNA_DIR, \"us_flow_acc/us_flow_acc/flow_acc/hdr.adf\"),\n",
    "    \"gm_srad\": pjoin(FEATURE_DIR, \"gridmet/srad_1986_2020_weekly.nc\"),\n",
    "    \"gm_vpd\": pjoin(FEATURE_DIR, \"gridmet/vpd_1986_2020_weekly.nc\"),\n",
    "    \"aw_mat\": pjoin(FEATURE_DIR, \"adaptwest/Normal_1991_2020_MAT.tif\"),\n",
    "    \"aw_mcmt\": pjoin(FEATURE_DIR, \"adaptwest/Normal_1991_2020_MCMT.tif\"),\n",
    "    \"aw_mwmt\": pjoin(FEATURE_DIR, \"adaptwest/Normal_1991_2020_MWMT.tif\"),\n",
    "    \"aw_td\": pjoin(FEATURE_DIR, \"adaptwest/Normal_1991_2020_TD.tif\"),\n",
    "    \"dm_tmax\": pjoin(FEATURE_DIR, \"daymet/tmax_1986_2020.nc\"),\n",
    "    \"dm_tmin\": pjoin(FEATURE_DIR, \"daymet/tmin_1986_2020.nc\"),\n",
    "    \"biomass_afg\": pjoin(\n",
    "        FEATURE_DIR, \"biomass/biomass_afg_1986_2020_{}.nc\".format(STATE)\n",
    "    ),\n",
    "    \"biomass_pfg\": pjoin(\n",
    "        FEATURE_DIR, \"biomass/biomass_pfg_1986_2020_{}.nc\".format(STATE)\n",
    "    ),\n",
    "    \"landfire_fvt\": pjoin(\n",
    "        FEATURE_DIR, \"landfire/LF2020_FVT_200_CONUS/Tif/LC20_FVT_200.tif\"\n",
    "    ),\n",
    "    \"landfire_fbfm40\": pjoin(\n",
    "        FEATURE_DIR, \"landfire/LF2020_FBFM40_200_CONUS/Tif/LC20_F40_200.tif\"\n",
    "    ),\n",
    "    \"ndvi\": pjoin(FEATURE_DIR, \"ndvi/access/weekly/ndvi_1986_2020_weekavg.nc\"),\n",
    "    \"mtbs_root\": pjoin(MTBS_DIR, \"MTBS_BSmosaics/\"),\n",
    "    \"mtbs_perim\": pjoin(MTBS_DIR, \"mtbs_perimeter_data/mtbs_perims_DD.shp\"),\n",
    "}\n",
    "YEARS = list(range(2016, 2021))\n",
    "GM_KEYS = list(filter(lambda x: x.startswith(\"gm_\"), PATHS))\n",
    "AW_KEYS = list(filter(lambda x: x.startswith(\"aw_\"), PATHS))\n",
    "DM_KEYS = list(filter(lambda x: x.startswith(\"dm_\"), PATHS))\n",
    "BIOMASS_KEYS = list(filter(lambda x: x.startswith(\"biomass_\"), PATHS))\n",
    "LANDFIRE_KEYS = list(filter(lambda x: x.startswith(\"landfire_\"), PATHS))\n",
    "NDVI_KEYS = list(filter(lambda x: x.startswith(\"ndvi\"), PATHS))\n",
    "DEM_KEYS = list(filter(lambda x: x.startswith(\"dem\"), PATHS))"
   ]
  },
  {
   "cell_type": "markdown",
   "metadata": {},
   "source": [
    "---"
   ]
  },
  {
   "cell_type": "code",
   "execution_count": 4,
   "metadata": {},
   "outputs": [],
   "source": [
    "mtbs_df_2018_2020 = dgpd.read_parquet(checkpoint_2_path)"
   ]
  },
  {
   "cell_type": "code",
   "execution_count": 5,
   "metadata": {},
   "outputs": [
    {
     "data": {
      "text/plain": [
       "102833847"
      ]
     },
     "execution_count": 5,
     "metadata": {},
     "output_type": "execute_result"
    }
   ],
   "source": [
    "len(mtbs_df_2018_2020)"
   ]
  },
  {
   "cell_type": "code",
   "execution_count": 6,
   "metadata": {},
   "outputs": [],
   "source": [
    "mtbs_df_2018_2020_computed = mtbs_df_2018_2020.compute()"
   ]
  },
  {
   "cell_type": "code",
   "execution_count": 7,
   "metadata": {},
   "outputs": [
    {
     "data": {
      "text/plain": [
       "42624448"
      ]
     },
     "execution_count": 7,
     "metadata": {},
     "output_type": "execute_result"
    }
   ],
   "source": [
    "len(mtbs_df_2018_2020_computed.geometry.unique())"
   ]
  },
  {
   "cell_type": "code",
   "execution_count": 7,
   "metadata": {},
   "outputs": [
    {
     "ename": "KeyboardInterrupt",
     "evalue": "",
     "output_type": "error",
     "traceback": [
      "\u001b[0;31m---------------------------------------------------------------------------\u001b[0m",
      "\u001b[0;31mKeyboardInterrupt\u001b[0m                         Traceback (most recent call last)",
      "Cell \u001b[0;32mIn[7], line 2\u001b[0m\n\u001b[1;32m      1\u001b[0m \u001b[39m# plot the geometry points from mtbs_df_2018_2020_computed, highlight with dem column\u001b[39;00m\n\u001b[0;32m----> 2\u001b[0m mtbs_df_2018_2020_computed\u001b[39m.\u001b[39;49mplot(column\u001b[39m=\u001b[39;49m\u001b[39m\"\u001b[39;49m\u001b[39mdem\u001b[39;49m\u001b[39m\"\u001b[39;49m, legend\u001b[39m=\u001b[39;49m\u001b[39mTrue\u001b[39;49;00m, cmap\u001b[39m=\u001b[39;49m\u001b[39m\"\u001b[39;49m\u001b[39mviridis\u001b[39;49m\u001b[39m\"\u001b[39;49m)\n",
      "File \u001b[0;32m~/.conda/envs/firelab/lib/python3.9/site-packages/geopandas/plotting.py:979\u001b[0m, in \u001b[0;36mGeoplotAccessor.__call__\u001b[0;34m(self, *args, **kwargs)\u001b[0m\n\u001b[1;32m    977\u001b[0m kind \u001b[39m=\u001b[39m kwargs\u001b[39m.\u001b[39mpop(\u001b[39m\"\u001b[39m\u001b[39mkind\u001b[39m\u001b[39m\"\u001b[39m, \u001b[39m\"\u001b[39m\u001b[39mgeo\u001b[39m\u001b[39m\"\u001b[39m)\n\u001b[1;32m    978\u001b[0m \u001b[39mif\u001b[39;00m kind \u001b[39m==\u001b[39m \u001b[39m\"\u001b[39m\u001b[39mgeo\u001b[39m\u001b[39m\"\u001b[39m:\n\u001b[0;32m--> 979\u001b[0m     \u001b[39mreturn\u001b[39;00m plot_dataframe(data, \u001b[39m*\u001b[39;49margs, \u001b[39m*\u001b[39;49m\u001b[39m*\u001b[39;49mkwargs)\n\u001b[1;32m    980\u001b[0m \u001b[39mif\u001b[39;00m kind \u001b[39min\u001b[39;00m \u001b[39mself\u001b[39m\u001b[39m.\u001b[39m_pandas_kinds:\n\u001b[1;32m    981\u001b[0m     \u001b[39m# Access pandas plots\u001b[39;00m\n\u001b[1;32m    982\u001b[0m     \u001b[39mreturn\u001b[39;00m PlotAccessor(data)(kind\u001b[39m=\u001b[39mkind, \u001b[39m*\u001b[39m\u001b[39m*\u001b[39mkwargs)\n",
      "File \u001b[0;32m~/.conda/envs/firelab/lib/python3.9/site-packages/geopandas/plotting.py:881\u001b[0m, in \u001b[0;36mplot_dataframe\u001b[0;34m(df, column, cmap, color, ax, cax, categorical, legend, scheme, k, vmin, vmax, markersize, figsize, legend_kwds, categories, classification_kwds, missing_kwds, aspect, **style_kwds)\u001b[0m\n\u001b[1;32m    879\u001b[0m         markersize \u001b[39m=\u001b[39m np\u001b[39m.\u001b[39mtake(markersize, multiindex, axis\u001b[39m=\u001b[39m\u001b[39m0\u001b[39m)\n\u001b[1;32m    880\u001b[0m         markersize \u001b[39m=\u001b[39m markersize[point_idx \u001b[39m&\u001b[39m np\u001b[39m.\u001b[39minvert(nan_idx)]\n\u001b[0;32m--> 881\u001b[0m     _plot_point_collection(\n\u001b[1;32m    882\u001b[0m         ax,\n\u001b[1;32m    883\u001b[0m         points,\n\u001b[1;32m    884\u001b[0m         subset,\n\u001b[1;32m    885\u001b[0m         vmin\u001b[39m=\u001b[39;49mmn,\n\u001b[1;32m    886\u001b[0m         vmax\u001b[39m=\u001b[39;49mmx,\n\u001b[1;32m    887\u001b[0m         markersize\u001b[39m=\u001b[39;49mmarkersize,\n\u001b[1;32m    888\u001b[0m         cmap\u001b[39m=\u001b[39;49mcmap,\n\u001b[1;32m    889\u001b[0m         \u001b[39m*\u001b[39;49m\u001b[39m*\u001b[39;49mstyle_kwds,\n\u001b[1;32m    890\u001b[0m     )\n\u001b[1;32m    892\u001b[0m missing_data \u001b[39m=\u001b[39m \u001b[39mnot\u001b[39;00m expl_series[nan_idx]\u001b[39m.\u001b[39mempty\n\u001b[1;32m    893\u001b[0m \u001b[39mif\u001b[39;00m missing_kwds \u001b[39mis\u001b[39;00m \u001b[39mnot\u001b[39;00m \u001b[39mNone\u001b[39;00m \u001b[39mand\u001b[39;00m missing_data:\n",
      "File \u001b[0;32m~/.conda/envs/firelab/lib/python3.9/site-packages/geopandas/plotting.py:314\u001b[0m, in \u001b[0;36m_plot_point_collection\u001b[0;34m(ax, geoms, values, color, cmap, vmin, vmax, marker, markersize, **kwargs)\u001b[0m\n\u001b[1;32m    311\u001b[0m _expand_kwargs(kwargs, multiindex)\n\u001b[1;32m    313\u001b[0m \u001b[39mif\u001b[39;00m \u001b[39m\"\u001b[39m\u001b[39mnorm\u001b[39m\u001b[39m\"\u001b[39m \u001b[39mnot\u001b[39;00m \u001b[39min\u001b[39;00m kwargs:\n\u001b[0;32m--> 314\u001b[0m     collection \u001b[39m=\u001b[39m ax\u001b[39m.\u001b[39;49mscatter(x, y, vmin\u001b[39m=\u001b[39;49mvmin, vmax\u001b[39m=\u001b[39;49mvmax, cmap\u001b[39m=\u001b[39;49mcmap, \u001b[39m*\u001b[39;49m\u001b[39m*\u001b[39;49mkwargs)\n\u001b[1;32m    315\u001b[0m \u001b[39melse\u001b[39;00m:\n\u001b[1;32m    316\u001b[0m     collection \u001b[39m=\u001b[39m ax\u001b[39m.\u001b[39mscatter(x, y, cmap\u001b[39m=\u001b[39mcmap, \u001b[39m*\u001b[39m\u001b[39m*\u001b[39mkwargs)\n",
      "File \u001b[0;32m~/.conda/envs/firelab/lib/python3.9/site-packages/matplotlib/__init__.py:1465\u001b[0m, in \u001b[0;36m_preprocess_data.<locals>.inner\u001b[0;34m(ax, data, *args, **kwargs)\u001b[0m\n\u001b[1;32m   1462\u001b[0m \u001b[39m@functools\u001b[39m\u001b[39m.\u001b[39mwraps(func)\n\u001b[1;32m   1463\u001b[0m \u001b[39mdef\u001b[39;00m \u001b[39minner\u001b[39m(ax, \u001b[39m*\u001b[39margs, data\u001b[39m=\u001b[39m\u001b[39mNone\u001b[39;00m, \u001b[39m*\u001b[39m\u001b[39m*\u001b[39mkwargs):\n\u001b[1;32m   1464\u001b[0m     \u001b[39mif\u001b[39;00m data \u001b[39mis\u001b[39;00m \u001b[39mNone\u001b[39;00m:\n\u001b[0;32m-> 1465\u001b[0m         \u001b[39mreturn\u001b[39;00m func(ax, \u001b[39m*\u001b[39;49m\u001b[39mmap\u001b[39;49m(sanitize_sequence, args), \u001b[39m*\u001b[39;49m\u001b[39m*\u001b[39;49mkwargs)\n\u001b[1;32m   1467\u001b[0m     bound \u001b[39m=\u001b[39m new_sig\u001b[39m.\u001b[39mbind(ax, \u001b[39m*\u001b[39margs, \u001b[39m*\u001b[39m\u001b[39m*\u001b[39mkwargs)\n\u001b[1;32m   1468\u001b[0m     auto_label \u001b[39m=\u001b[39m (bound\u001b[39m.\u001b[39marguments\u001b[39m.\u001b[39mget(label_namer)\n\u001b[1;32m   1469\u001b[0m                   \u001b[39mor\u001b[39;00m bound\u001b[39m.\u001b[39mkwargs\u001b[39m.\u001b[39mget(label_namer))\n",
      "File \u001b[0;32m~/.conda/envs/firelab/lib/python3.9/site-packages/matplotlib/axes/_axes.py:4649\u001b[0m, in \u001b[0;36mAxes.scatter\u001b[0;34m(self, x, y, s, c, marker, cmap, norm, vmin, vmax, alpha, linewidths, edgecolors, plotnonfinite, **kwargs)\u001b[0m\n\u001b[1;32m   4646\u001b[0m x, y \u001b[39m=\u001b[39m \u001b[39mself\u001b[39m\u001b[39m.\u001b[39m_process_unit_info([(\u001b[39m\"\u001b[39m\u001b[39mx\u001b[39m\u001b[39m\"\u001b[39m, x), (\u001b[39m\"\u001b[39m\u001b[39my\u001b[39m\u001b[39m\"\u001b[39m, y)], kwargs)\n\u001b[1;32m   4647\u001b[0m \u001b[39m# np.ma.ravel yields an ndarray, not a masked array,\u001b[39;00m\n\u001b[1;32m   4648\u001b[0m \u001b[39m# unless its argument is a masked array.\u001b[39;00m\n\u001b[0;32m-> 4649\u001b[0m x \u001b[39m=\u001b[39m np\u001b[39m.\u001b[39;49mma\u001b[39m.\u001b[39;49mravel(x)\n\u001b[1;32m   4650\u001b[0m y \u001b[39m=\u001b[39m np\u001b[39m.\u001b[39mma\u001b[39m.\u001b[39mravel(y)\n\u001b[1;32m   4651\u001b[0m \u001b[39mif\u001b[39;00m x\u001b[39m.\u001b[39msize \u001b[39m!=\u001b[39m y\u001b[39m.\u001b[39msize:\n",
      "File \u001b[0;32m~/.conda/envs/firelab/lib/python3.9/site-packages/numpy/ma/core.py:6852\u001b[0m, in \u001b[0;36m_frommethod.__call__\u001b[0;34m(self, a, *args, **params)\u001b[0m\n\u001b[1;32m   6849\u001b[0m     args \u001b[39m=\u001b[39m \u001b[39mlist\u001b[39m(args)\n\u001b[1;32m   6850\u001b[0m     a, args[\u001b[39m0\u001b[39m] \u001b[39m=\u001b[39m args[\u001b[39m0\u001b[39m], a\n\u001b[0;32m-> 6852\u001b[0m marr \u001b[39m=\u001b[39m asanyarray(a)\n\u001b[1;32m   6853\u001b[0m method_name \u001b[39m=\u001b[39m \u001b[39mself\u001b[39m\u001b[39m.\u001b[39m\u001b[39m__name__\u001b[39m\n\u001b[1;32m   6854\u001b[0m method \u001b[39m=\u001b[39m \u001b[39mgetattr\u001b[39m(\u001b[39mtype\u001b[39m(marr), method_name, \u001b[39mNone\u001b[39;00m)\n",
      "File \u001b[0;32m~/.conda/envs/firelab/lib/python3.9/site-packages/numpy/ma/core.py:8132\u001b[0m, in \u001b[0;36masanyarray\u001b[0;34m(a, dtype)\u001b[0m\n\u001b[1;32m   8130\u001b[0m \u001b[39mif\u001b[39;00m \u001b[39misinstance\u001b[39m(a, MaskedArray) \u001b[39mand\u001b[39;00m (dtype \u001b[39mis\u001b[39;00m \u001b[39mNone\u001b[39;00m \u001b[39mor\u001b[39;00m dtype \u001b[39m==\u001b[39m a\u001b[39m.\u001b[39mdtype):\n\u001b[1;32m   8131\u001b[0m     \u001b[39mreturn\u001b[39;00m a\n\u001b[0;32m-> 8132\u001b[0m \u001b[39mreturn\u001b[39;00m masked_array(a, dtype\u001b[39m=\u001b[39;49mdtype, copy\u001b[39m=\u001b[39;49m\u001b[39mFalse\u001b[39;49;00m, keep_mask\u001b[39m=\u001b[39;49m\u001b[39mTrue\u001b[39;49;00m, subok\u001b[39m=\u001b[39;49m\u001b[39mTrue\u001b[39;49;00m)\n",
      "File \u001b[0;32m~/.conda/envs/firelab/lib/python3.9/site-packages/numpy/ma/core.py:2859\u001b[0m, in \u001b[0;36mMaskedArray.__new__\u001b[0;34m(cls, data, mask, dtype, copy, subok, ndmin, fill_value, keep_mask, hard_mask, shrink, order)\u001b[0m\n\u001b[1;32m   2855\u001b[0m \u001b[39melif\u001b[39;00m \u001b[39misinstance\u001b[39m(data, (\u001b[39mtuple\u001b[39m, \u001b[39mlist\u001b[39m)):\n\u001b[1;32m   2856\u001b[0m     \u001b[39mtry\u001b[39;00m:\n\u001b[1;32m   2857\u001b[0m         \u001b[39m# If data is a sequence of masked array\u001b[39;00m\n\u001b[1;32m   2858\u001b[0m         mask \u001b[39m=\u001b[39m np\u001b[39m.\u001b[39marray(\n\u001b[0;32m-> 2859\u001b[0m             [getmaskarray(np\u001b[39m.\u001b[39masanyarray(m, dtype\u001b[39m=\u001b[39m_data\u001b[39m.\u001b[39mdtype))\n\u001b[1;32m   2860\u001b[0m              \u001b[39mfor\u001b[39;00m m \u001b[39min\u001b[39;00m data], dtype\u001b[39m=\u001b[39mmdtype)\n\u001b[1;32m   2861\u001b[0m     \u001b[39mexcept\u001b[39;00m \u001b[39mValueError\u001b[39;00m:\n\u001b[1;32m   2862\u001b[0m         \u001b[39m# If data is nested\u001b[39;00m\n\u001b[1;32m   2863\u001b[0m         mask \u001b[39m=\u001b[39m nomask\n",
      "File \u001b[0;32m~/.conda/envs/firelab/lib/python3.9/site-packages/numpy/ma/core.py:2859\u001b[0m, in \u001b[0;36m<listcomp>\u001b[0;34m(.0)\u001b[0m\n\u001b[1;32m   2855\u001b[0m \u001b[39melif\u001b[39;00m \u001b[39misinstance\u001b[39m(data, (\u001b[39mtuple\u001b[39m, \u001b[39mlist\u001b[39m)):\n\u001b[1;32m   2856\u001b[0m     \u001b[39mtry\u001b[39;00m:\n\u001b[1;32m   2857\u001b[0m         \u001b[39m# If data is a sequence of masked array\u001b[39;00m\n\u001b[1;32m   2858\u001b[0m         mask \u001b[39m=\u001b[39m np\u001b[39m.\u001b[39marray(\n\u001b[0;32m-> 2859\u001b[0m             [getmaskarray(np\u001b[39m.\u001b[39;49masanyarray(m, dtype\u001b[39m=\u001b[39;49m_data\u001b[39m.\u001b[39;49mdtype))\n\u001b[1;32m   2860\u001b[0m              \u001b[39mfor\u001b[39;00m m \u001b[39min\u001b[39;00m data], dtype\u001b[39m=\u001b[39mmdtype)\n\u001b[1;32m   2861\u001b[0m     \u001b[39mexcept\u001b[39;00m \u001b[39mValueError\u001b[39;00m:\n\u001b[1;32m   2862\u001b[0m         \u001b[39m# If data is nested\u001b[39;00m\n\u001b[1;32m   2863\u001b[0m         mask \u001b[39m=\u001b[39m nomask\n",
      "File \u001b[0;32m~/.conda/envs/firelab/lib/python3.9/site-packages/numpy/ma/core.py:1471\u001b[0m, in \u001b[0;36mgetmaskarray\u001b[0;34m(arr)\u001b[0m\n\u001b[1;32m   1424\u001b[0m \u001b[39mdef\u001b[39;00m \u001b[39mgetmaskarray\u001b[39m(arr):\n\u001b[1;32m   1425\u001b[0m \u001b[39m    \u001b[39m\u001b[39m\"\"\"\u001b[39;00m\n\u001b[1;32m   1426\u001b[0m \u001b[39m    Return the mask of a masked array, or full boolean array of False.\u001b[39;00m\n\u001b[1;32m   1427\u001b[0m \n\u001b[0;32m   (...)\u001b[0m\n\u001b[1;32m   1469\u001b[0m \n\u001b[1;32m   1470\u001b[0m \u001b[39m    \"\"\"\u001b[39;00m\n\u001b[0;32m-> 1471\u001b[0m     mask \u001b[39m=\u001b[39m getmask(arr)\n\u001b[1;32m   1472\u001b[0m     \u001b[39mif\u001b[39;00m mask \u001b[39mis\u001b[39;00m nomask:\n\u001b[1;32m   1473\u001b[0m         mask \u001b[39m=\u001b[39m make_mask_none(np\u001b[39m.\u001b[39mshape(arr), \u001b[39mgetattr\u001b[39m(arr, \u001b[39m'\u001b[39m\u001b[39mdtype\u001b[39m\u001b[39m'\u001b[39m, \u001b[39mNone\u001b[39;00m))\n",
      "File \u001b[0;32m~/.conda/envs/firelab/lib/python3.9/site-packages/numpy/ma/core.py:1362\u001b[0m, in \u001b[0;36mgetmask\u001b[0;34m(a)\u001b[0m\n\u001b[1;32m   1330\u001b[0m \u001b[39m    \u001b[39m\u001b[39m\"\"\"\u001b[39;00m\n\u001b[1;32m   1331\u001b[0m \u001b[39m    Construct a dtype description list from a given dtype.\u001b[39;00m\n\u001b[1;32m   1332\u001b[0m \n\u001b[0;32m   (...)\u001b[0m\n\u001b[1;32m   1357\u001b[0m \n\u001b[1;32m   1358\u001b[0m \u001b[39m    \"\"\"\u001b[39;00m\n\u001b[1;32m   1359\u001b[0m     \u001b[39mreturn\u001b[39;00m _replace_dtype_fields(ndtype, MaskType)\n\u001b[0;32m-> 1362\u001b[0m \u001b[39mdef\u001b[39;00m \u001b[39mgetmask\u001b[39m(a):\n\u001b[1;32m   1363\u001b[0m \u001b[39m    \u001b[39m\u001b[39m\"\"\"\u001b[39;00m\n\u001b[1;32m   1364\u001b[0m \u001b[39m    Return the mask of a masked array, or nomask.\u001b[39;00m\n\u001b[1;32m   1365\u001b[0m \n\u001b[0;32m   (...)\u001b[0m\n\u001b[1;32m   1416\u001b[0m \n\u001b[1;32m   1417\u001b[0m \u001b[39m    \"\"\"\u001b[39;00m\n\u001b[1;32m   1418\u001b[0m     \u001b[39mreturn\u001b[39;00m \u001b[39mgetattr\u001b[39m(a, \u001b[39m'\u001b[39m\u001b[39m_mask\u001b[39m\u001b[39m'\u001b[39m, nomask)\n",
      "\u001b[0;31mKeyboardInterrupt\u001b[0m: "
     ]
    },
    {
     "data": {
      "image/png": "[encoded data removed]",
      "text/plain": [
       "<Figure size 640x480 with 1 Axes>"
      ]
     },
     "metadata": {},
     "output_type": "display_data"
    }
   ],
   "source": [
    "# find the count of unique date geometry pairs\n",
    "mtbs_df_2018_2020_computed.groupby([\"ig_date\", \"geometry\"]).size().reset_index().shape"
   ]
  },
  {
   "cell_type": "markdown",
   "metadata": {},
   "source": [
    "#### MTBS DATASET ADD UID AND EVENT ID"
   ]
  },
  {
   "cell_type": "code",
   "execution_count": null,
   "metadata": {},
   "outputs": [],
   "source": [
    "# load mtbs perimeters\n",
    "print(\"Loading MTBS perimeters\")\n",
    "mtbs_perim = gpd.read_file(PATHS[\"mtbs_perim\"])\n",
    "mtbs_perim['Ig_Date'] = pd.to_datetime(mtbs_perim['Ig_Date'])\n",
    "mtbs_perim.columns\n",
    "\n",
    "# extract only the columns we need (Event_ID where startswith OR, Ig_Date, and geometry)\n",
    "mtbs_perim = mtbs_perim[[\"Event_ID\", \"Ig_Date\", \"geometry\"]]\n",
    "mtbs_perim = mtbs_perim[mtbs_perim.Event_ID.str.startswith(\"OR\")]\n",
    "# drop rows where Ig_Date before 1986 or after 2020\n",
    "mtbs_perim = mtbs_perim[mtbs_perim.Ig_Date.dt.year.between(2018, 2020)]\n",
    "mtbs_perim.reset_index(drop=True, inplace=True)\n",
    "len(mtbs_perim)"
   ]
  },
  {
   "cell_type": "code",
   "execution_count": null,
   "metadata": {},
   "outputs": [],
   "source": [
    "# convert the geometry in mtbs_dataset to lat lon\n",
    "# mtbs_dask_df = mtbs_dask_df.to_crs(epsg=4326)\n",
    "mtbs_perim = mtbs_perim.to_crs(mtbs_df_2018_2020.crs)\n",
    "# mtbs_dataset = mtbs_dataset.to_crs(epsg=4326)"
   ]
  },
  {
   "cell_type": "code",
   "execution_count": null,
   "metadata": {},
   "outputs": [],
   "source": [
    "def spatial_join(partition, mtbs_perim):\n",
    "    # Convert the Dask partition to a GeoDataFrame\n",
    "    gdf = gpd.GeoDataFrame(partition, geometry='geometry', crs=mtbs_perim.crs)\n",
    "\n",
    "    # Perform the spatial join\n",
    "    joined = gpd.sjoin(gdf, mtbs_perim, how=\"inner\", predicate=\"intersects\")\n",
    "\n",
    "    # Filter by date if needed\n",
    "    joined = joined[joined['ig_date'] == joined['Ig_Date']]\n",
    "    # print(joined)\n",
    "\n",
    "    return joined\n",
    "\n",
    "result = mtbs_df_2018_2020.map_partitions(spatial_join, mtbs_perim, align_dataframes=False)\n",
    "print(len(result))"
   ]
  },
  {
   "cell_type": "code",
   "execution_count": null,
   "metadata": {},
   "outputs": [],
   "source": [
    "with ProgressBar():\n",
    "    final_result = result.compute()"
   ]
  },
  {
   "cell_type": "code",
   "execution_count": null,
   "metadata": {},
   "outputs": [],
   "source": [
    "final_result"
   ]
  },
  {
   "cell_type": "code",
   "execution_count": null,
   "metadata": {},
   "outputs": [],
   "source": [
    "# TODO: compare final_results and mtbs_dataset to see what is missing from final_results after the spatial join"
   ]
  },
  {
   "cell_type": "code",
   "execution_count": null,
   "metadata": {},
   "outputs": [],
   "source": [
    "final_result.drop(columns=['index_right', 'Ig_Date'], inplace=True)"
   ]
  },
  {
   "cell_type": "code",
   "execution_count": null,
   "metadata": {},
   "outputs": [],
   "source": [
    "# drop null values\n",
    "final_result.dropna(inplace=True)\n",
    "# adds unique id to each pixel\n",
    "final_result.reset_index(inplace=True)\n",
    "final_result['index'] = final_result.index\n",
    "# rename index to unique_id\n",
    "final_result.rename(columns={'index': 'unique_id'}, inplace=True)\n",
    "final_result"
   ]
  },
  {
   "cell_type": "code",
   "execution_count": null,
   "metadata": {},
   "outputs": [],
   "source": [
    "# plot a fire topo map\n",
    "\n",
    "eventID = 'OR4380511789220200816'\n",
    "\n",
    "fire = final_result[final_result.Event_ID == eventID]\n",
    "\n",
    "col = 'dem'\n",
    "\n",
    "fire.plot(column=col, s=1)"
   ]
  },
  {
   "cell_type": "code",
   "execution_count": null,
   "metadata": {},
   "outputs": [],
   "source": [
    "# write final_result to dask so we can write to parquet\n",
    "# final_result = dd.from_pandas(final_result, npartitions=100)"
   ]
  },
  {
   "cell_type": "code",
   "execution_count": null,
   "metadata": {},
   "outputs": [],
   "source": [
    "with ProgressBar():\n",
    "    final_result.to_parquet(mtbs_df_parquet_path)"
   ]
  },
  {
   "cell_type": "code",
   "execution_count": null,
   "metadata": {},
   "outputs": [],
   "source": [
    "final_result = None"
   ]
  },
  {
   "cell_type": "code",
   "execution_count": null,
   "metadata": {},
   "outputs": [],
   "source": [
    "# read and check\n",
    "mtbs_dataset_final = dgpd.read_parquet(mtbs_df_parquet_path)\n",
    "with ProgressBar():\n",
    "    mtbs_final_computed = mtbs_dataset_final.compute()"
   ]
  },
  {
   "cell_type": "code",
   "execution_count": null,
   "metadata": {},
   "outputs": [],
   "source": [
    "# plot a fire topo map\n",
    "\n",
    "eventID = 'OR4380511789220200816'\n",
    "\n",
    "fire = mtbs_final_computed[mtbs_final_computed.Event_ID == eventID]\n",
    "\n",
    "col = 'dem'\n",
    "\n",
    "fire.plot(column=col, s=1)"
   ]
  },
  {
   "cell_type": "code",
   "execution_count": null,
   "metadata": {},
   "outputs": [],
   "source": [
    "mtbs_dataset_2020_08_16 = mtbs_dataset[(mtbs_dataset.year == 2020) & (mtbs_dataset.ig_date.dt.month == 8) & (mtbs_dataset.ig_date.dt.day == 16)]\n",
    "mtbs_dataset_2020_08_16"
   ]
  },
  {
   "cell_type": "code",
   "execution_count": null,
   "metadata": {},
   "outputs": [],
   "source": [
    "mtbs_dataset_2020_08_16.plot(column=col, s=1)"
   ]
  }
 ],
 "metadata": {
  "kernelspec": {
   "display_name": "gisenv",
   "language": "python",
   "name": "python3"
  },
  "language_info": {
   "codemirror_mode": {
    "name": "ipython",
    "version": 3
   },
   "file_extension": ".py",
   "mimetype": "text/x-python",
   "name": "python",
   "nbconvert_exporter": "python",
   "pygments_lexer": "ipython3",
   "version": "3.9.18"
  },
  "orig_nbformat": 4
 },
 "nbformat": 4,
 "nbformat_minor": 2
}
